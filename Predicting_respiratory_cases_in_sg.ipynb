{
 "cells": [
  {
   "cell_type": "markdown",
   "id": "regular-rebecca",
   "metadata": {},
   "source": [
    "## Project Description\n",
    "\n",
    "Given Singapore's climate, we are exposed to high temperatures, humidity and rainfalls. Rainy weather can cause shortness of breath especially when there are changes in humidity and temperature. Hence, the constant changes in weather conditions can be harmful to one's body as it affects the respiratory system and causes respiratory diseases such as bronchial asthmas, tracheitis, bronchitis and pneumonia.\n",
    "\n",
    "Singapore’s world renowned healthcare system coupled with its relatively high hygiene standards should have effectively reduced the number of patients admitted for respiratory issues. However, Acute Upper Respiratory Tract Infections including Influenza were the top 4 conditions of Polyclinic Attendances from 2005 to 2019[1] and Pneumonia accounted for 20.7% of deaths in 2019[2].\n",
    "\n",
    "As such, this project aims to investigate whether external factors like climate and seasonal changes have an obvious impact (if any) on disease transmission.\n",
    "\n",
    "Hence, this project will analyze the effect the number of rainy days and humidity in a mmonth have on the number of respiratory cases in polyclinincs."
   ]
  },
  {
   "cell_type": "markdown",
   "id": "elect-rally",
   "metadata": {},
   "source": [
    "## **Importing necessary modules**\n",
    "\n",
    "Here, we import the pandas library, the matplotlib library and seaborn library"
   ]
  },
  {
   "cell_type": "code",
   "execution_count": 1,
   "id": "related-glossary",
   "metadata": {},
   "outputs": [],
   "source": [
    "### IMPORT THE REQUIRED MODULES\n",
    "\n",
    "import pandas as pd\n",
    "import numpy as np \n",
    "import matplotlib.pyplot as plt\n",
    "import seaborn as sns\n",
    "\n",
    "# Display all floats rounded off to 1 decimal place\n",
    "pd.options.display.float_format = '{:,.1f}'.format\n",
    "\n",
    "# Plot static image in Jupyter notebook\n",
    "%matplotlib inline\n",
    "\n",
    "# Settings throughout the notebook\n",
    "sns.set()"
   ]
  },
  {
   "cell_type": "markdown",
   "id": "mobile-words",
   "metadata": {},
   "source": [
    "## **Importing the required data sets**\n",
    "\n",
    "The datasets were collected from data.gov and converted into the CSV format to be used in Python.\n"
   ]
  },
  {
   "cell_type": "code",
   "execution_count": 2,
   "id": "minimal-infection",
   "metadata": {},
   "outputs": [
    {
     "name": "stdout",
     "output_type": "stream",
     "text": [
      "(470, 2)\n"
     ]
    },
    {
     "data": {
      "text/html": [
       "<div>\n",
       "<style scoped>\n",
       "    .dataframe tbody tr th:only-of-type {\n",
       "        vertical-align: middle;\n",
       "    }\n",
       "\n",
       "    .dataframe tbody tr th {\n",
       "        vertical-align: top;\n",
       "    }\n",
       "\n",
       "    .dataframe thead th {\n",
       "        text-align: right;\n",
       "    }\n",
       "</style>\n",
       "<table border=\"1\" class=\"dataframe\">\n",
       "  <thead>\n",
       "    <tr style=\"text-align: right;\">\n",
       "      <th></th>\n",
       "      <th>month</th>\n",
       "      <th>no_of_rainy_days</th>\n",
       "    </tr>\n",
       "  </thead>\n",
       "  <tbody>\n",
       "    <tr>\n",
       "      <th>0</th>\n",
       "      <td>1982-01</td>\n",
       "      <td>10</td>\n",
       "    </tr>\n",
       "    <tr>\n",
       "      <th>1</th>\n",
       "      <td>1982-02</td>\n",
       "      <td>5</td>\n",
       "    </tr>\n",
       "    <tr>\n",
       "      <th>2</th>\n",
       "      <td>1982-03</td>\n",
       "      <td>11</td>\n",
       "    </tr>\n",
       "    <tr>\n",
       "      <th>3</th>\n",
       "      <td>1982-04</td>\n",
       "      <td>14</td>\n",
       "    </tr>\n",
       "    <tr>\n",
       "      <th>4</th>\n",
       "      <td>1982-05</td>\n",
       "      <td>10</td>\n",
       "    </tr>\n",
       "  </tbody>\n",
       "</table>\n",
       "</div>"
      ],
      "text/plain": [
       "     month  no_of_rainy_days\n",
       "0  1982-01                10\n",
       "1  1982-02                 5\n",
       "2  1982-03                11\n",
       "3  1982-04                14\n",
       "4  1982-05                10"
      ]
     },
     "execution_count": 2,
     "metadata": {},
     "output_type": "execute_result"
    }
   ],
   "source": [
    "\n",
    "# Title: 'Rainfall - Monthly Number of Rain Days'\n",
    "# Description: 'The number of rain days (day with rainfall amount of 0.2mm or more)\n",
    "#   in a month recorded at the Changi Climate Station.'\n",
    "#  Coverage: '1982-01-01 to 2021-02-28'\n",
    "rain_days_mthly_df = pd.read_csv('Data_sets/rainfall-monthly-number-of-rain-days.csv')\n",
    "print(rain_days_mthly_df.shape)\n",
    "rain_days_mthly_df.head()\n"
   ]
  },
  {
   "cell_type": "code",
   "execution_count": 3,
   "id": "settled-touch",
   "metadata": {},
   "outputs": [
    {
     "name": "stdout",
     "output_type": "stream",
     "text": [
      "(470, 2)\n"
     ]
    },
    {
     "data": {
      "text/html": [
       "<div>\n",
       "<style scoped>\n",
       "    .dataframe tbody tr th:only-of-type {\n",
       "        vertical-align: middle;\n",
       "    }\n",
       "\n",
       "    .dataframe tbody tr th {\n",
       "        vertical-align: top;\n",
       "    }\n",
       "\n",
       "    .dataframe thead th {\n",
       "        text-align: right;\n",
       "    }\n",
       "</style>\n",
       "<table border=\"1\" class=\"dataframe\">\n",
       "  <thead>\n",
       "    <tr style=\"text-align: right;\">\n",
       "      <th></th>\n",
       "      <th>month</th>\n",
       "      <th>mean_rh</th>\n",
       "    </tr>\n",
       "  </thead>\n",
       "  <tbody>\n",
       "    <tr>\n",
       "      <th>0</th>\n",
       "      <td>1982-01</td>\n",
       "      <td>81.2</td>\n",
       "    </tr>\n",
       "    <tr>\n",
       "      <th>1</th>\n",
       "      <td>1982-02</td>\n",
       "      <td>79.5</td>\n",
       "    </tr>\n",
       "    <tr>\n",
       "      <th>2</th>\n",
       "      <td>1982-03</td>\n",
       "      <td>82.3</td>\n",
       "    </tr>\n",
       "    <tr>\n",
       "      <th>3</th>\n",
       "      <td>1982-04</td>\n",
       "      <td>85.9</td>\n",
       "    </tr>\n",
       "    <tr>\n",
       "      <th>4</th>\n",
       "      <td>1982-05</td>\n",
       "      <td>83.2</td>\n",
       "    </tr>\n",
       "  </tbody>\n",
       "</table>\n",
       "</div>"
      ],
      "text/plain": [
       "     month  mean_rh\n",
       "0  1982-01     81.2\n",
       "1  1982-02     79.5\n",
       "2  1982-03     82.3\n",
       "3  1982-04     85.9\n",
       "4  1982-05     83.2"
      ]
     },
     "execution_count": 3,
     "metadata": {},
     "output_type": "execute_result"
    }
   ],
   "source": [
    "# Name: 'relative-humidity-monthly-mean'\n",
    "# Title: 'Relative Humidity - Monthly Mean'\n",
    "# Description: 'The monthly mean relative humidity recorded at the Changi Climate Station.'\n",
    "#         Description: 'Percentages are expressed as a value over 100, i.e. \"100\" represents\n",
    "#           100%'\n",
    "#  Coverage: '1982-01-01 to 2021-02-28'\n",
    "humidity_mthly_df = pd.read_csv('Data_sets/relative-humidity-monthly-mean.csv')\n",
    "\n",
    "print(humidity_mthly_df.shape)\n",
    "humidity_mthly_df.head()"
   ]
  },
  {
   "cell_type": "code",
   "execution_count": 4,
   "id": "economic-uniform",
   "metadata": {},
   "outputs": [
    {
     "name": "stdout",
     "output_type": "stream",
     "text": [
      "(2037, 3)\n"
     ]
    },
    {
     "data": {
      "text/html": [
       "<div>\n",
       "<style scoped>\n",
       "    .dataframe tbody tr th:only-of-type {\n",
       "        vertical-align: middle;\n",
       "    }\n",
       "\n",
       "    .dataframe tbody tr th {\n",
       "        vertical-align: top;\n",
       "    }\n",
       "\n",
       "    .dataframe thead th {\n",
       "        text-align: right;\n",
       "    }\n",
       "</style>\n",
       "<table border=\"1\" class=\"dataframe\">\n",
       "  <thead>\n",
       "    <tr style=\"text-align: right;\">\n",
       "      <th></th>\n",
       "      <th>epi_week</th>\n",
       "      <th>disease</th>\n",
       "      <th>no._of_cases</th>\n",
       "    </tr>\n",
       "  </thead>\n",
       "  <tbody>\n",
       "    <tr>\n",
       "      <th>0</th>\n",
       "      <td>2012-W01</td>\n",
       "      <td>Acute Upper Respiratory Tract infections</td>\n",
       "      <td>2932</td>\n",
       "    </tr>\n",
       "    <tr>\n",
       "      <th>1</th>\n",
       "      <td>2012-W01</td>\n",
       "      <td>Acute Conjunctivitis</td>\n",
       "      <td>120</td>\n",
       "    </tr>\n",
       "    <tr>\n",
       "      <th>2</th>\n",
       "      <td>2012-W01</td>\n",
       "      <td>Acute Diarrhoea</td>\n",
       "      <td>491</td>\n",
       "    </tr>\n",
       "    <tr>\n",
       "      <th>3</th>\n",
       "      <td>2012-W01</td>\n",
       "      <td>Chickenpox</td>\n",
       "      <td>18</td>\n",
       "    </tr>\n",
       "    <tr>\n",
       "      <th>4</th>\n",
       "      <td>2012-W02</td>\n",
       "      <td>Acute Upper Respiratory Tract infections</td>\n",
       "      <td>3189</td>\n",
       "    </tr>\n",
       "  </tbody>\n",
       "</table>\n",
       "</div>"
      ],
      "text/plain": [
       "   epi_week                                   disease  no._of_cases\n",
       "0  2012-W01  Acute Upper Respiratory Tract infections          2932\n",
       "1  2012-W01                      Acute Conjunctivitis           120\n",
       "2  2012-W01                           Acute Diarrhoea           491\n",
       "3  2012-W01                                Chickenpox            18\n",
       "4  2012-W02  Acute Upper Respiratory Tract infections          3189"
      ]
     },
     "execution_count": 4,
     "metadata": {},
     "output_type": "execute_result"
    }
   ],
   "source": [
    "# Description: 'Average daily polyclinic attendances for selected diseases - Acute Upper\n",
    "#   Respiratory Tract infections, Acute Conjunctivitis, Acute Diarrhoea, Chickenpox\n",
    "#   and HFMD( from 2018)'\n",
    "#             Unit Of Measure: 'No. of Cases'\n",
    "#     \tJanuary 1, 2012 to January 2, 2021\n",
    "#       - 'Each epidemiological week begins on a Sunday and ends on Saturday.'\n",
    "clinic_df = pd.read_csv('Data_sets/average-daily-polyclinic-attendances-for-selected-diseases.csv')\n",
    "print(clinic_df.shape)\n",
    "clinic_df.head()"
   ]
  },
  {
   "cell_type": "markdown",
   "id": "catholic-socket",
   "metadata": {},
   "source": [
    "##  Merging data\n",
    "\n",
    "The data sets representing the number of rainy days *and* humidity levels will be merged together into one dataframe- weather_df.\n",
    "\n",
    "The data in the dataframe will then be filetered to only contain data from January 2012 to December 2021.\n"
   ]
  },
  {
   "cell_type": "code",
   "execution_count": 5,
   "id": "stretch-orbit",
   "metadata": {},
   "outputs": [],
   "source": [
    "# Lets merge the number of rainy days and humidity dfs and call them weather_df\n",
    "# filter set to contain data from jan 2012 - dec 2021\n",
    "\n",
    "weather_df = rain_days_mthly_df\n",
    "weather_df['mean_rh'] =  humidity_mthly_df['mean_rh']\n",
    "# weather_df.head()\n",
    "\n",
    "# for time in weather_df['month']:\n",
    "#     if '2021' in time:\n",
    "#         display(weather_df[weather_df['month']==time].index)\n",
    "# 2012 starts from index 360\n",
    "# 2021 Jan is in 468\n",
    "\n",
    "list_of_index = np.arange(360,468)\n",
    "# print(list_of_index)\n",
    "weather_filt_df = weather_df[weather_df.index.isin(list_of_index)]\n",
    "# save this as a csv \n",
    "(weather_filt_df).to_csv('Data_sets/weather_filt_df.csv',index=False)"
   ]
  },
  {
   "cell_type": "markdown",
   "id": "average-uruguay",
   "metadata": {},
   "source": [
    "## Narrowing data\n",
    "\n",
    "The dataframe containing the weather data that contains the number of rainy days and humidity levels are saved into a csv file. \n",
    "\n",
    "The dataframe is narrowed to only obtain the number of clinic walkins due to Acute Upper Respiratory Tract infections.\n"
   ]
  },
  {
   "cell_type": "code",
   "execution_count": 6,
   "id": "nervous-lightning",
   "metadata": {},
   "outputs": [],
   "source": [
    "## Lets explore the clinic set a bit more\n",
    "\n",
    "clinic_df.disease.unique()\n",
    "\n",
    "## there are 5 unique diseases, lets look at the acute rep only \n",
    "\n",
    "resp_df = clinic_df[clinic_df['disease']=='Acute Upper Respiratory Tract infections']\n",
    "resp_df = resp_df[['epi_week','no._of_cases']]\n",
    "(resp_df).to_csv('Data_sets/resp_df.csv',index=False)"
   ]
  },
  {
   "cell_type": "markdown",
   "id": "registered-exploration",
   "metadata": {},
   "source": [
    "## Conversion of data\n",
    "\n",
    "The number of respiratory cases in the data set will be converted into a monthly format as the weather information is presented in a monthly format."
   ]
  },
  {
   "cell_type": "code",
   "execution_count": 7,
   "id": "nuclear-supervision",
   "metadata": {},
   "outputs": [
    {
     "data": {
      "text/html": [
       "<div>\n",
       "<style scoped>\n",
       "    .dataframe tbody tr th:only-of-type {\n",
       "        vertical-align: middle;\n",
       "    }\n",
       "\n",
       "    .dataframe tbody tr th {\n",
       "        vertical-align: top;\n",
       "    }\n",
       "\n",
       "    .dataframe thead th {\n",
       "        text-align: right;\n",
       "    }\n",
       "</style>\n",
       "<table border=\"1\" class=\"dataframe\">\n",
       "  <thead>\n",
       "    <tr style=\"text-align: right;\">\n",
       "      <th></th>\n",
       "      <th>epi_week</th>\n",
       "      <th>no._of_cases</th>\n",
       "    </tr>\n",
       "  </thead>\n",
       "  <tbody>\n",
       "    <tr>\n",
       "      <th>0</th>\n",
       "      <td>2012-W01</td>\n",
       "      <td>2932</td>\n",
       "    </tr>\n",
       "    <tr>\n",
       "      <th>1</th>\n",
       "      <td>2012-W02</td>\n",
       "      <td>3189</td>\n",
       "    </tr>\n",
       "    <tr>\n",
       "      <th>2</th>\n",
       "      <td>2012-W03</td>\n",
       "      <td>3185</td>\n",
       "    </tr>\n",
       "    <tr>\n",
       "      <th>3</th>\n",
       "      <td>2012-W04</td>\n",
       "      <td>4001</td>\n",
       "    </tr>\n",
       "    <tr>\n",
       "      <th>4</th>\n",
       "      <td>2012-W05</td>\n",
       "      <td>3356</td>\n",
       "    </tr>\n",
       "  </tbody>\n",
       "</table>\n",
       "</div>"
      ],
      "text/plain": [
       "   epi_week  no._of_cases\n",
       "0  2012-W01          2932\n",
       "1  2012-W02          3189\n",
       "2  2012-W03          3185\n",
       "3  2012-W04          4001\n",
       "4  2012-W05          3356"
      ]
     },
     "execution_count": 7,
     "metadata": {},
     "output_type": "execute_result"
    }
   ],
   "source": [
    "## read in the previously filtered dataframe\n",
    "\n",
    "resp_df = pd.read_csv('Data_sets/resp_df.csv')\n",
    "resp_df.head()"
   ]
  },
  {
   "cell_type": "markdown",
   "id": "proved-national",
   "metadata": {},
   "source": []
  },
  {
   "cell_type": "code",
   "execution_count": 8,
   "id": "revised-oklahoma",
   "metadata": {},
   "outputs": [
    {
     "data": {
      "text/plain": [
       "['2012-W52',\n",
       " '2013-W52',\n",
       " '2014-W53',\n",
       " '2015-W52',\n",
       " '2016-W52',\n",
       " '2017-W52',\n",
       " '2018-W52',\n",
       " '2019-W52',\n",
       " '2020-W53']"
      ]
     },
     "metadata": {},
     "output_type": "display_data"
    }
   ],
   "source": [
    "## to convert the resp set to total number of cases per month\n",
    "#       - 'Each epidemiological week begins on a Sunday and ends on Saturday.'\n",
    "\n",
    "\n",
    "year_list = np.arange(2012,2021)\n",
    "final_week_year = []\n",
    "year_df = []\n",
    "\n",
    "for year in year_list:\n",
    "    for epi in resp_df['epi_week']:\n",
    "        if str(year) in epi:\n",
    "            year_df.append(epi)\n",
    "    final_week_year.append(year_df[-1])\n",
    "    \n",
    "#**Note:** The variable, final_week_year, allows us to cross check the number of weeks in a year even though it is not constant\n",
    "    \n",
    "# display(year_df[-1])\n",
    "display(final_week_year)"
   ]
  },
  {
   "cell_type": "code",
   "execution_count": 9,
   "id": "stainless-stable",
   "metadata": {},
   "outputs": [
    {
     "name": "stdout",
     "output_type": "stream",
     "text": [
      "['2012-W52', '2013-W52', '2014-W53', '2015-W52', '2016-W52', '2017-W52', '2018-W52', '2019-W52', '2020-W53']\n"
     ]
    },
    {
     "data": {
      "text/plain": [
       "[52, 52, 53, 52, 52, 52, 52, 52, 53]"
      ]
     },
     "metadata": {},
     "output_type": "display_data"
    },
    {
     "data": {
      "text/plain": [
       "[[4, 5, 4, 4, 5, 4, 4, 5, 4, 5, 4, 4],\n",
       " [5, 4, 4, 4, 5, 4, 5, 4, 4, 5, 4, 4],\n",
       " [5, 4, 4, 5, 4, 4, 5, 4, 4, 5, 4, 5],\n",
       " [4, 4, 4, 5, 4, 4, 5, 4, 5, 4, 4, 5],\n",
       " [4, 4, 5, 4, 4, 5, 4, 5, 4, 4, 5, 4],\n",
       " [4, 4, 5, 4, 5, 4, 4, 5, 4, 4, 5, 4],\n",
       " [5, 4, 4, 4, 5, 4, 4, 5, 4, 5, 4, 4],\n",
       " [5, 4, 4, 4, 5, 4, 5, 4, 4, 5, 4, 4],\n",
       " [5, 4, 4, 5, 4, 4, 5, 4, 5, 4, 4, 5]]"
      ]
     },
     "metadata": {},
     "output_type": "display_data"
    }
   ],
   "source": [
    "import calendar as cal\n",
    "cal.setfirstweekday(2)\n",
    "\n",
    "def week_calc(year):\n",
    "    last = [];\n",
    "    weeks = [];\n",
    "    for i in range (1,13):\n",
    "        days_in_a_mth = cal.monthcalendar(year,i)\n",
    "        week_count = 0\n",
    "        for week in days_in_a_mth:\n",
    "#             print(week[0])\n",
    "            if week[0]!=0:\n",
    "                week_count = week_count + 1\n",
    "        weeks.append(week_count)\n",
    "    return weeks\n",
    "\n",
    "my_week_list = [];\n",
    "my_week_list_total = [];\n",
    "\n",
    "for year in year_list:\n",
    "    weeks_list = week_calc(year)\n",
    "#     print(weeks_list)\n",
    "    y = np.asarray(weeks_list).sum()\n",
    "    my_week_list.append(weeks_list)\n",
    "    my_week_list_total.append(y)\n",
    "#     print(y)\n",
    "\n",
    "print(final_week_year)\n",
    "display(my_week_list_total)\n",
    "display(my_week_list)\n",
    "\n",
    "# my_week_list represents the number of epi weeks in a corresponding month for that particular year\n"
   ]
  },
  {
   "cell_type": "code",
   "execution_count": 10,
   "id": "tested-style",
   "metadata": {},
   "outputs": [
    {
     "data": {
      "text/html": [
       "<div>\n",
       "<style scoped>\n",
       "    .dataframe tbody tr th:only-of-type {\n",
       "        vertical-align: middle;\n",
       "    }\n",
       "\n",
       "    .dataframe tbody tr th {\n",
       "        vertical-align: top;\n",
       "    }\n",
       "\n",
       "    .dataframe thead th {\n",
       "        text-align: right;\n",
       "    }\n",
       "</style>\n",
       "<table border=\"1\" class=\"dataframe\">\n",
       "  <thead>\n",
       "    <tr style=\"text-align: right;\">\n",
       "      <th></th>\n",
       "      <th>epi_week</th>\n",
       "      <th>year_2012</th>\n",
       "      <th>year_2013</th>\n",
       "      <th>year_2014</th>\n",
       "      <th>year_2015</th>\n",
       "      <th>year_2016</th>\n",
       "      <th>year_2017</th>\n",
       "      <th>year_2018</th>\n",
       "      <th>year_2019</th>\n",
       "      <th>year_2020</th>\n",
       "    </tr>\n",
       "  </thead>\n",
       "  <tbody>\n",
       "    <tr>\n",
       "      <th>0</th>\n",
       "      <td>1</td>\n",
       "      <td>2932</td>\n",
       "      <td>3022</td>\n",
       "      <td>2766</td>\n",
       "      <td>2822</td>\n",
       "      <td>2604</td>\n",
       "      <td>2721</td>\n",
       "      <td>3552</td>\n",
       "      <td>3478</td>\n",
       "      <td>3842</td>\n",
       "    </tr>\n",
       "    <tr>\n",
       "      <th>1</th>\n",
       "      <td>2</td>\n",
       "      <td>3189</td>\n",
       "      <td>3120</td>\n",
       "      <td>2805</td>\n",
       "      <td>2921</td>\n",
       "      <td>2775</td>\n",
       "      <td>2864</td>\n",
       "      <td>3632</td>\n",
       "      <td>3291</td>\n",
       "      <td>3585</td>\n",
       "    </tr>\n",
       "    <tr>\n",
       "      <th>2</th>\n",
       "      <td>3</td>\n",
       "      <td>3185</td>\n",
       "      <td>3133</td>\n",
       "      <td>3124</td>\n",
       "      <td>3035</td>\n",
       "      <td>2946</td>\n",
       "      <td>3060</td>\n",
       "      <td>4234</td>\n",
       "      <td>3391</td>\n",
       "      <td>3708</td>\n",
       "    </tr>\n",
       "    <tr>\n",
       "      <th>3</th>\n",
       "      <td>4</td>\n",
       "      <td>4001</td>\n",
       "      <td>3190</td>\n",
       "      <td>3288</td>\n",
       "      <td>2918</td>\n",
       "      <td>3111</td>\n",
       "      <td>3002</td>\n",
       "      <td>4048</td>\n",
       "      <td>3408</td>\n",
       "      <td>3811</td>\n",
       "    </tr>\n",
       "    <tr>\n",
       "      <th>4</th>\n",
       "      <td>5</td>\n",
       "      <td>3356</td>\n",
       "      <td>3036</td>\n",
       "      <td>3242</td>\n",
       "      <td>2931</td>\n",
       "      <td>3125</td>\n",
       "      <td>3521</td>\n",
       "      <td>3960</td>\n",
       "      <td>3428</td>\n",
       "      <td>4728</td>\n",
       "    </tr>\n",
       "  </tbody>\n",
       "</table>\n",
       "</div>"
      ],
      "text/plain": [
       "   epi_week  year_2012  year_2013  year_2014  year_2015  year_2016  year_2017  \\\n",
       "0         1       2932       3022       2766       2822       2604       2721   \n",
       "1         2       3189       3120       2805       2921       2775       2864   \n",
       "2         3       3185       3133       3124       3035       2946       3060   \n",
       "3         4       4001       3190       3288       2918       3111       3002   \n",
       "4         5       3356       3036       3242       2931       3125       3521   \n",
       "\n",
       "   year_2018  year_2019  year_2020  \n",
       "0       3552       3478       3842  \n",
       "1       3632       3291       3585  \n",
       "2       4234       3391       3708  \n",
       "3       4048       3408       3811  \n",
       "4       3960       3428       4728  "
      ]
     },
     "execution_count": 10,
     "metadata": {},
     "output_type": "execute_result"
    }
   ],
   "source": [
    "resp_df_aug = pd.read_csv('Data_sets/resp_df_aug.csv')\n",
    "resp_df_aug.head()"
   ]
  },
  {
   "cell_type": "code",
   "execution_count": 11,
   "id": "eastern-delight",
   "metadata": {},
   "outputs": [
    {
     "name": "stdout",
     "output_type": "stream",
     "text": [
      "[4, 5, 4, 4, 5, 4, 4, 5, 4, 5, 4, 4]\n"
     ]
    }
   ],
   "source": [
    "x = my_week_list[0]\n",
    "print(x)\n",
    "resp_df_aug['year_2012']\n",
    "sum_list = []\n",
    "sum_year_list = pd.DataFrame([1,2,3,4,5,6,7,8,9,10,11,12]);\n",
    "sum_vert = [];\n",
    "for cols in resp_df_aug.columns:\n",
    "    sum_list = []\n",
    "    sum_list.append(resp_df_aug[cols].iloc[0 : x[0]].sum())\n",
    "    sum_list.append(resp_df_aug[cols].iloc[x[0] : x[0]+x[1]].sum())\n",
    "    sum_list.append(resp_df_aug[cols].iloc[x[1]+x[0] : x[0]+x[1]+x[2]].sum())\n",
    "    sum_list.append(resp_df_aug[cols].iloc[x[2]+x[1]+x[0] : x[0]+x[1]+x[2]+x[3]].sum())\n",
    "    sum_list.append(resp_df_aug[cols].iloc[x[3]+x[2]+x[1]+x[0] : x[0]+x[1]+x[2]+x[3]+x[4]].sum())\n",
    "    sum_list.append(resp_df_aug[cols].iloc[x[4]+x[3]+x[2]+x[1]+x[0] : x[0]+x[1]+x[2]+x[3]+x[4]+x[5]].sum())\n",
    "    sum_list.append(resp_df_aug[cols].iloc[x[5]+x[4]+x[3]+x[2]+x[1]+x[0] : x[0]+x[1]+x[2]+x[3]+x[4]+x[5]+x[6]].sum())\n",
    "    sum_list.append(resp_df_aug[cols].iloc[x[6]+x[5]+x[4]+x[3]+x[2]+x[1]+x[0] : x[0]+x[1]+x[2]+x[3]+x[4]+x[5]+x[6]+x[7]].sum())\n",
    "    sum_list.append(resp_df_aug[cols].iloc[x[7]+x[6]+x[5]+x[4]+x[3]+x[2]+x[1]+x[0] : x[0]+x[1]+x[2]+x[3]+x[4]+x[5]+x[6]+x[7]+x[8]].sum())\n",
    "    sum_list.append(resp_df_aug[cols].iloc[x[8]+x[7]+x[6]+x[5]+x[4]+x[3]+x[2]+x[1]+x[0] : x[0]+x[1]+x[2]+x[3]+x[4]+x[5]+x[6]+x[7]+x[8]+x[9]].sum())\n",
    "    sum_list.append(resp_df_aug[cols].iloc[x[9]+x[8]+x[7]+x[6]+x[5]+x[4]+x[3]+x[2]+x[1]+x[0] : x[0]+x[1]+x[2]+x[3]+x[4]+x[5]+x[6]+x[7]+x[8]+x[9]+x[10]].sum())\n",
    "    sum_list.append(resp_df_aug[cols].iloc[x[10]+x[9]+x[8]+x[7]+x[6]+x[5]+x[4]+x[3]+x[2]+x[1]+x[0] : x[0]+x[1]+x[2]+x[3]+x[4]+x[5]+x[6]+x[7]+x[8]+x[9]+x[10]+x[11]].sum())\n",
    "    sum_year_list[cols] = sum_list;\n",
    "    sum_vert.append(sum_list)\n",
    "\n",
    "# print(np.asarray(sum_list).sum())\n",
    "# print(sum_list)\n",
    "cols_2_sel = ['year_2012', 'year_2013', 'year_2014',\n",
    "       'year_2015', 'year_2016', 'year_2017', 'year_2018', 'year_2019',\n",
    "       'year_2020']\n",
    "\n",
    "resp_mthly = sum_year_list[cols_2_sel]\n",
    "(resp_mthly).to_csv('resp_mthly.csv',index=False)"
   ]
  },
  {
   "cell_type": "markdown",
   "id": "composite-institution",
   "metadata": {},
   "source": [
    "#### The number of respiratory cases has been converted from a weekly into a monthly format ####"
   ]
  },
  {
   "cell_type": "code",
   "execution_count": 12,
   "id": "modern-constraint",
   "metadata": {},
   "outputs": [],
   "source": [
    "weather_df = pd.read_csv('Data_sets/weather_filt_df.csv')\n",
    "weather_df.head()\n",
    "df_filt = pd.read_csv('Data_sets/df.csv')\n"
   ]
  },
  {
   "cell_type": "markdown",
   "id": "inclusive-sense",
   "metadata": {},
   "source": [
    "## Data Visualization\n",
    "\n",
    "The monthly respiratory cases are presented in the scatter plots and a box plot below. \n"
   ]
  },
  {
   "cell_type": "code",
   "execution_count": 13,
   "id": "conscious-prototype",
   "metadata": {},
   "outputs": [
    {
     "data": {
      "image/png": "[encoded data removed]",
      "text/plain": [
       "<Figure size 432x288 with 1 Axes>"
      ]
     },
     "metadata": {},
     "output_type": "display_data"
    },
    {
     "data": {
      "image/png": "[encoded data removed]",
      "text/plain": [
       "<Figure size 432x288 with 1 Axes>"
      ]
     },
     "metadata": {},
     "output_type": "display_data"
    },
    {
     "data": {
      "image/png": "[encoded data removed]",
      "text/plain": [
       "<Figure size 432x288 with 1 Axes>"
      ]
     },
     "metadata": {},
     "output_type": "display_data"
    },
    {
     "data": {
      "image/png": "[encoded data removed]",
      "text/plain": [
       "<Figure size 432x288 with 1 Axes>"
      ]
     },
     "metadata": {},
     "output_type": "display_data"
    }
   ],
   "source": [
    "df_filt.plot(kind='scatter',\n",
    "               x = 'month',\n",
    "               y = 'resp_cases',\n",
    "               marker = 'X',\n",
    "               s = 80,\n",
    "               alpha = 1,\n",
    "               color = 'green',\n",
    "               rot=45,\n",
    "               title='Cases')\n",
    "df_filt.plot(kind='scatter',\n",
    "               x = 'month',\n",
    "               y = 'no_of_rainy_days',\n",
    "               marker = 'X',\n",
    "               s = 80,\n",
    "               alpha = 1,\n",
    "               color = 'red',\n",
    "               rot=45,\n",
    "               title='no_of_rainy_days')\n",
    "df_filt.plot(kind='scatter',\n",
    "               x = 'month',\n",
    "               y = 'mean_rh',\n",
    "               marker = 'X',\n",
    "               s = 80,\n",
    "               alpha = 1,\n",
    "               color = 'Blue',\n",
    "               rot=45,\n",
    "               title='Humidity')\n",
    "\n",
    "df_filt.plot(kind='box',\n",
    "               x = 'month',\n",
    "               y = 'resp_cases',\n",
    "               color = 'Blue',\n",
    "               rot=45,\n",
    "               title='Random Plot')\n",
    "\n",
    "\n",
    "plt.show()"
   ]
  },
  {
   "cell_type": "markdown",
   "id": "incorrect-construction",
   "metadata": {},
   "source": [
    "### Insights: \n",
    "\n",
    "- There are a group of outliers that belong to the number of clinic cases due to respiratory cases in 2020. \n",
    "\n",
    "- The outliers could be due to  high levels of social distancing during the covid-19 lockdown period that may have caused an overall steep decline in respiratory illness cases.\n",
    "\n",
    "- This anomaly is a reason for us to eliminate the walkin cases from 2020 in our dataframe.\n"
   ]
  },
  {
   "cell_type": "code",
   "execution_count": 14,
   "id": "exceptional-protocol",
   "metadata": {},
   "outputs": [],
   "source": [
    "df_filt = pd.read_csv('Data_sets/df_aug.csv')"
   ]
  },
  {
   "cell_type": "code",
   "execution_count": 15,
   "id": "activated-vietnam",
   "metadata": {},
   "outputs": [
    {
     "name": "stderr",
     "output_type": "stream",
     "text": [
      "C:\\Users\\washe\\AppData\\Local\\Continuum\\anaconda3\\lib\\site-packages\\seaborn\\distributions.py:2557: FutureWarning: `distplot` is a deprecated function and will be removed in a future version. Please adapt your code to use either `displot` (a figure-level function with similar flexibility) or `histplot` (an axes-level function for histograms).\n",
      "  warnings.warn(msg, FutureWarning)\n",
      "C:\\Users\\washe\\AppData\\Local\\Continuum\\anaconda3\\lib\\site-packages\\seaborn\\distributions.py:2557: FutureWarning: `distplot` is a deprecated function and will be removed in a future version. Please adapt your code to use either `displot` (a figure-level function with similar flexibility) or `histplot` (an axes-level function for histograms).\n",
      "  warnings.warn(msg, FutureWarning)\n",
      "C:\\Users\\washe\\AppData\\Local\\Continuum\\anaconda3\\lib\\site-packages\\seaborn\\distributions.py:2557: FutureWarning: `distplot` is a deprecated function and will be removed in a future version. Please adapt your code to use either `displot` (a figure-level function with similar flexibility) or `histplot` (an axes-level function for histograms).\n",
      "  warnings.warn(msg, FutureWarning)\n",
      "C:\\Users\\washe\\AppData\\Local\\Continuum\\anaconda3\\lib\\site-packages\\seaborn\\distributions.py:2557: FutureWarning: `distplot` is a deprecated function and will be removed in a future version. Please adapt your code to use either `displot` (a figure-level function with similar flexibility) or `histplot` (an axes-level function for histograms).\n",
      "  warnings.warn(msg, FutureWarning)\n"
     ]
    },
    {
     "data": {
      "image/png": "[encoded data removed]",
      "text/plain": [
       "<Figure size 1152x504 with 4 Axes>"
      ]
     },
     "metadata": {},
     "output_type": "display_data"
    }
   ],
   "source": [
    "fig = plt.figure(figsize=(16,7))\n",
    "ax1 = fig.add_subplot(2,2,1)\n",
    "ax2 = fig.add_subplot(2,2,2)\n",
    "ax3 = fig.add_subplot(2,2,3)\n",
    "ax4 = fig.add_subplot(2,2,4)\n",
    "\n",
    "\n",
    "sns.distplot(df_filt.mean_rh, ax=ax1)\n",
    "ax1.set_ylabel('% of')\n",
    "ax1.set_xlabel('Humidity')\n",
    "ax1.set_title('mean_rh')\n",
    "\n",
    "\n",
    "sns.distplot(df_filt['no_of_rainy_days'], ax=ax2,color='red')\n",
    "ax2.set_ylabel('% of')\n",
    "ax2.set_xlabel('Days')\n",
    "ax2.set_title('no_of_rainy_days')\n",
    "\n",
    "sns.distplot(df_filt.resp_cases, ax=ax3,color='blue')\n",
    "ax3.set_ylabel('% of')\n",
    "ax3.set_xlabel('Resp Cases')\n",
    "ax3.set_title('resp_cases')\n",
    "\n",
    "sns.distplot(df_filt.sun, ax=ax4,color='blue')\n",
    "ax4.set_ylabel('% of')\n",
    "ax4.set_xlabel('sun hrs')\n",
    "ax4.set_title('sun hrs')\n",
    "\n",
    "plt.tight_layout()"
   ]
  },
  {
   "cell_type": "markdown",
   "id": "breeding-horizon",
   "metadata": {},
   "source": [
    "### Insights: \n",
    "- Based on the graphs, we can concludee that HUMIDY AND NUMBER OF RAINY DAYS seem to follow a normal distribution. \n",
    "- However, the number of respiratory cases in Figure  representing the number of respiratory cases seem skewed. \n",
    "- This suggests that we may not be able to aaccurately model respiratory cases to the weather. \n",
    "- As such, we divide the monthly respiratory cases into 3 different classes: low, moderate and high."
   ]
  },
  {
   "cell_type": "code",
   "execution_count": 16,
   "id": "fancy-soccer",
   "metadata": {},
   "outputs": [
    {
     "data": {
      "text/html": [
       "<div>\n",
       "<style scoped>\n",
       "    .dataframe tbody tr th:only-of-type {\n",
       "        vertical-align: middle;\n",
       "    }\n",
       "\n",
       "    .dataframe tbody tr th {\n",
       "        vertical-align: top;\n",
       "    }\n",
       "\n",
       "    .dataframe thead th {\n",
       "        text-align: right;\n",
       "    }\n",
       "</style>\n",
       "<table border=\"1\" class=\"dataframe\">\n",
       "  <thead>\n",
       "    <tr style=\"text-align: right;\">\n",
       "      <th></th>\n",
       "      <th>month</th>\n",
       "      <th>no_of_rainy_days</th>\n",
       "      <th>mean_rh</th>\n",
       "      <th>resp_cases</th>\n",
       "      <th>sun</th>\n",
       "    </tr>\n",
       "    <tr>\n",
       "      <th>target</th>\n",
       "      <th></th>\n",
       "      <th></th>\n",
       "      <th></th>\n",
       "      <th></th>\n",
       "      <th></th>\n",
       "    </tr>\n",
       "  </thead>\n",
       "  <tbody>\n",
       "    <tr>\n",
       "      <th>High</th>\n",
       "      <td>34</td>\n",
       "      <td>34</td>\n",
       "      <td>34</td>\n",
       "      <td>34</td>\n",
       "      <td>34</td>\n",
       "    </tr>\n",
       "    <tr>\n",
       "      <th>Low</th>\n",
       "      <td>34</td>\n",
       "      <td>34</td>\n",
       "      <td>34</td>\n",
       "      <td>34</td>\n",
       "      <td>34</td>\n",
       "    </tr>\n",
       "    <tr>\n",
       "      <th>Moderate</th>\n",
       "      <td>28</td>\n",
       "      <td>28</td>\n",
       "      <td>28</td>\n",
       "      <td>28</td>\n",
       "      <td>28</td>\n",
       "    </tr>\n",
       "  </tbody>\n",
       "</table>\n",
       "</div>"
      ],
      "text/plain": [
       "          month  no_of_rainy_days  mean_rh  resp_cases  sun\n",
       "target                                                     \n",
       "High         34                34       34          34   34\n",
       "Low          34                34       34          34   34\n",
       "Moderate     28                28       28          28   28"
      ]
     },
     "execution_count": 16,
     "metadata": {},
     "output_type": "execute_result"
    }
   ],
   "source": [
    "quartile_1 = df_filt['resp_cases'].quantile(q=.35)\n",
    "quartile_3 = df_filt['resp_cases'].quantile(q=.65)\n",
    "\n",
    "cond1 = df_filt['resp_cases']>quartile_3\n",
    "cond2 = df_filt['resp_cases']<quartile_1\n",
    "\n",
    "def target_def(cases):\n",
    "    if cases > quartile_3:\n",
    "        target = 'High'\n",
    "    elif cases < quartile_1:\n",
    "        target = 'Low'\n",
    "    else:\n",
    "        target = 'Moderate'\n",
    "    return target\n",
    "\n",
    "df_filt['target'] = df_filt['resp_cases'].apply(target_def)\n",
    "\n",
    "grpby = df_filt.groupby('target').count()\n",
    "grpby\n"
   ]
  },
  {
   "cell_type": "code",
   "execution_count": 17,
   "id": "violent-characteristic",
   "metadata": {},
   "outputs": [
    {
     "data": {
      "text/html": [
       "<div>\n",
       "<style scoped>\n",
       "    .dataframe tbody tr th:only-of-type {\n",
       "        vertical-align: middle;\n",
       "    }\n",
       "\n",
       "    .dataframe tbody tr th {\n",
       "        vertical-align: top;\n",
       "    }\n",
       "\n",
       "    .dataframe thead th {\n",
       "        text-align: right;\n",
       "    }\n",
       "</style>\n",
       "<table border=\"1\" class=\"dataframe\">\n",
       "  <thead>\n",
       "    <tr style=\"text-align: right;\">\n",
       "      <th></th>\n",
       "      <th>resp_cases</th>\n",
       "      <th>mean_rh</th>\n",
       "      <th>no_of_rainy_days</th>\n",
       "      <th>sun</th>\n",
       "    </tr>\n",
       "  </thead>\n",
       "  <tbody>\n",
       "    <tr>\n",
       "      <th>0</th>\n",
       "      <td>0.5</td>\n",
       "      <td>1.0</td>\n",
       "      <td>0.6</td>\n",
       "      <td>0.4</td>\n",
       "    </tr>\n",
       "    <tr>\n",
       "      <th>1</th>\n",
       "      <td>0.7</td>\n",
       "      <td>0.9</td>\n",
       "      <td>0.4</td>\n",
       "      <td>0.6</td>\n",
       "    </tr>\n",
       "    <tr>\n",
       "      <th>2</th>\n",
       "      <td>0.2</td>\n",
       "      <td>1.0</td>\n",
       "      <td>0.8</td>\n",
       "      <td>0.1</td>\n",
       "    </tr>\n",
       "    <tr>\n",
       "      <th>3</th>\n",
       "      <td>0.3</td>\n",
       "      <td>0.9</td>\n",
       "      <td>0.7</td>\n",
       "      <td>0.4</td>\n",
       "    </tr>\n",
       "    <tr>\n",
       "      <th>4</th>\n",
       "      <td>0.6</td>\n",
       "      <td>0.7</td>\n",
       "      <td>0.7</td>\n",
       "      <td>0.4</td>\n",
       "    </tr>\n",
       "    <tr>\n",
       "      <th>...</th>\n",
       "      <td>...</td>\n",
       "      <td>...</td>\n",
       "      <td>...</td>\n",
       "      <td>...</td>\n",
       "    </tr>\n",
       "    <tr>\n",
       "      <th>91</th>\n",
       "      <td>0.5</td>\n",
       "      <td>0.0</td>\n",
       "      <td>0.2</td>\n",
       "      <td>0.7</td>\n",
       "    </tr>\n",
       "    <tr>\n",
       "      <th>92</th>\n",
       "      <td>0.1</td>\n",
       "      <td>0.1</td>\n",
       "      <td>0.1</td>\n",
       "      <td>0.6</td>\n",
       "    </tr>\n",
       "    <tr>\n",
       "      <th>93</th>\n",
       "      <td>0.6</td>\n",
       "      <td>0.4</td>\n",
       "      <td>0.5</td>\n",
       "      <td>0.5</td>\n",
       "    </tr>\n",
       "    <tr>\n",
       "      <th>94</th>\n",
       "      <td>0.4</td>\n",
       "      <td>0.5</td>\n",
       "      <td>0.5</td>\n",
       "      <td>0.4</td>\n",
       "    </tr>\n",
       "    <tr>\n",
       "      <th>95</th>\n",
       "      <td>0.4</td>\n",
       "      <td>0.8</td>\n",
       "      <td>0.5</td>\n",
       "      <td>0.2</td>\n",
       "    </tr>\n",
       "  </tbody>\n",
       "</table>\n",
       "<p>96 rows × 4 columns</p>\n",
       "</div>"
      ],
      "text/plain": [
       "    resp_cases  mean_rh  no_of_rainy_days  sun\n",
       "0          0.5      1.0               0.6  0.4\n",
       "1          0.7      0.9               0.4  0.6\n",
       "2          0.2      1.0               0.8  0.1\n",
       "3          0.3      0.9               0.7  0.4\n",
       "4          0.6      0.7               0.7  0.4\n",
       "..         ...      ...               ...  ...\n",
       "91         0.5      0.0               0.2  0.7\n",
       "92         0.1      0.1               0.1  0.6\n",
       "93         0.6      0.4               0.5  0.5\n",
       "94         0.4      0.5               0.5  0.4\n",
       "95         0.4      0.8               0.5  0.2\n",
       "\n",
       "[96 rows x 4 columns]"
      ]
     },
     "execution_count": 17,
     "metadata": {},
     "output_type": "execute_result"
    }
   ],
   "source": [
    "from sklearn.preprocessing import MinMaxScaler\n",
    "\n",
    "my_scaler = MinMaxScaler()\n",
    "columns = ['resp_cases','mean_rh','no_of_rainy_days','sun']\n",
    "\n",
    "scaled_df_filt = pd.DataFrame(my_scaler.fit_transform(df_filt[columns]), columns=columns)\n",
    "scaled_df_filt"
   ]
  },
  {
   "cell_type": "markdown",
   "id": "civil-birmingham",
   "metadata": {},
   "source": [
    "#### Creation of features"
   ]
  },
  {
   "cell_type": "code",
   "execution_count": 18,
   "id": "iraqi-personality",
   "metadata": {},
   "outputs": [
    {
     "data": {
      "text/plain": [
       "0        High\n",
       "1        High\n",
       "2    Moderate\n",
       "3    Moderate\n",
       "4        High\n",
       "Name: target, dtype: object"
      ]
     },
     "execution_count": 18,
     "metadata": {},
     "output_type": "execute_result"
    }
   ],
   "source": [
    "from sklearn.model_selection import train_test_split\n",
    "from sklearn import datasets, linear_model\n",
    "\n",
    "features = ['no_of_rainy_days', 'mean_rh','sun']\n",
    "\n",
    "# df_x = df_filt[features]\n",
    "df_x = scaled_df_filt[features]\n",
    "df_y = df_filt['target']\n",
    "\n",
    "df_x.head()\n",
    "df_y.head()"
   ]
  },
  {
   "cell_type": "code",
   "execution_count": 19,
   "id": "loved-judges",
   "metadata": {},
   "outputs": [
    {
     "data": {
      "text/html": [
       "<div>\n",
       "<style scoped>\n",
       "    .dataframe tbody tr th:only-of-type {\n",
       "        vertical-align: middle;\n",
       "    }\n",
       "\n",
       "    .dataframe tbody tr th {\n",
       "        vertical-align: top;\n",
       "    }\n",
       "\n",
       "    .dataframe thead th {\n",
       "        text-align: right;\n",
       "    }\n",
       "</style>\n",
       "<table border=\"1\" class=\"dataframe\">\n",
       "  <thead>\n",
       "    <tr style=\"text-align: right;\">\n",
       "      <th></th>\n",
       "      <th>no_of_rainy_days</th>\n",
       "      <th>mean_rh</th>\n",
       "      <th>sun</th>\n",
       "    </tr>\n",
       "  </thead>\n",
       "  <tbody>\n",
       "    <tr>\n",
       "      <th>43</th>\n",
       "      <td>0.4</td>\n",
       "      <td>0.3</td>\n",
       "      <td>0.5</td>\n",
       "    </tr>\n",
       "    <tr>\n",
       "      <th>62</th>\n",
       "      <td>0.4</td>\n",
       "      <td>0.7</td>\n",
       "      <td>0.5</td>\n",
       "    </tr>\n",
       "    <tr>\n",
       "      <th>3</th>\n",
       "      <td>0.7</td>\n",
       "      <td>0.9</td>\n",
       "      <td>0.4</td>\n",
       "    </tr>\n",
       "    <tr>\n",
       "      <th>86</th>\n",
       "      <td>0.2</td>\n",
       "      <td>0.0</td>\n",
       "      <td>0.8</td>\n",
       "    </tr>\n",
       "    <tr>\n",
       "      <th>45</th>\n",
       "      <td>0.3</td>\n",
       "      <td>0.2</td>\n",
       "      <td>0.2</td>\n",
       "    </tr>\n",
       "  </tbody>\n",
       "</table>\n",
       "</div>"
      ],
      "text/plain": [
       "    no_of_rainy_days  mean_rh  sun\n",
       "43               0.4      0.3  0.5\n",
       "62               0.4      0.7  0.5\n",
       "3                0.7      0.9  0.4\n",
       "86               0.2      0.0  0.8\n",
       "45               0.3      0.2  0.2"
      ]
     },
     "execution_count": 19,
     "metadata": {},
     "output_type": "execute_result"
    }
   ],
   "source": [
    "x_train, x_test, y_train, y_test = train_test_split(df_x, \n",
    "                                                    df_y, \n",
    "                                                    test_size=0.20, # 20% Testing Data\n",
    "                                                    random_state=0)\n",
    "\n",
    "x_train.head()\n",
    "#y_train.head()"
   ]
  },
  {
   "cell_type": "code",
   "execution_count": 20,
   "id": "dirty-polls",
   "metadata": {},
   "outputs": [
    {
     "name": "stdout",
     "output_type": "stream",
     "text": [
      "Depth of Tree 9\n"
     ]
    }
   ],
   "source": [
    "from sklearn.tree import DecisionTreeClassifier\n",
    "\n",
    "dtree = DecisionTreeClassifier(criterion='entropy', max_depth=9, random_state=0)  # use the entropy criteria for tree splitting.  You can use gini too.\n",
    "\n",
    "dtree.fit(x_train, y_train)  # training the decision tree using the training data\n",
    "\n",
    "print(\"Depth of Tree\", dtree.tree_.max_depth) # This tree has a maximum depth of x"
   ]
  },
  {
   "cell_type": "markdown",
   "id": "adjustable-asbestos",
   "metadata": {},
   "source": [
    "### Bar chart representing the monthly amount of sunlight hours, mean relative humidity and number of rainy days"
   ]
  },
  {
   "cell_type": "code",
   "execution_count": 21,
   "id": "lightweight-consequence",
   "metadata": {},
   "outputs": [
    {
     "name": "stdout",
     "output_type": "stream",
     "text": [
      "[0.20380262 0.35844479 0.43775259]\n"
     ]
    },
    {
     "data": {
      "image/png": "[encoded data removed]",
      "text/plain": [
       "<Figure size 432x288 with 1 Axes>"
      ]
     },
     "metadata": {},
     "output_type": "display_data"
    }
   ],
   "source": [
    "import matplotlib.pyplot as plt\n",
    "\n",
    "fig, ax = plt.subplots()\n",
    "ax.barh(features, dtree.feature_importances_)\n",
    "print(dtree.feature_importances_)\n"
   ]
  },
  {
   "cell_type": "markdown",
   "id": "dramatic-belarus",
   "metadata": {},
   "source": [
    "### Insight: \n",
    "\n",
    "- Sunlight hours appears to have a higher importance, followed closely by the amount of humidity."
   ]
  },
  {
   "cell_type": "markdown",
   "id": "growing-armstrong",
   "metadata": {},
   "source": [
    "## Confusion Matrix"
   ]
  },
  {
   "cell_type": "code",
   "execution_count": 22,
   "id": "short-protocol",
   "metadata": {},
   "outputs": [],
   "source": [
    "import matplotlib.pyplot as plt\n",
    "import seaborn as sns\n",
    "from sklearn.metrics import confusion_matrix\n",
    "\n",
    "\n",
    "results = dtree.predict(x_test)\n",
    "cm = confusion_matrix(y_test, results)\n"
   ]
  },
  {
   "cell_type": "code",
   "execution_count": 23,
   "id": "collective-mailman",
   "metadata": {},
   "outputs": [
    {
     "name": "stdout",
     "output_type": "stream",
     "text": [
      "[[2 3 3]\n",
      " [1 5 0]\n",
      " [0 3 3]]\n"
     ]
    },
    {
     "data": {
      "image/png": "[encoded data removed]",
      "text/plain": [
       "<Figure size 432x288 with 2 Axes>"
      ]
     },
     "metadata": {},
     "output_type": "display_data"
    },
    {
     "name": "stdout",
     "output_type": "stream",
     "text": [
      "accuracy 0.5\n"
     ]
    }
   ],
   "source": [
    "from sklearn.metrics import plot_confusion_matrix\n",
    "\n",
    "disp = plot_confusion_matrix(dtree, x_test, y_test,\n",
    "                                 cmap=plt.cm.Blues,\n",
    "                                 normalize=None)\n",
    "print(disp.confusion_matrix)\n",
    "\n",
    "plt.show()\n",
    "\n",
    "print(\"accuracy\", dtree.score(x_test, y_test))"
   ]
  },
  {
   "cell_type": "markdown",
   "id": "suspended-mozambique",
   "metadata": {},
   "source": [
    "### Insights: \n",
    "\n",
    "#### WE OBTAIN AN ACCURACY OF \n",
    "- #### 0.35 WHEN USING A FULL TREE (of depth 17) AND THE FULL FEATURES\n",
    "- #### 0.40 WHEN WE NORMALIZE OUR FEATURES \n",
    "- #### 0.45 WHEN WE USE A PRUNED TREE (of depth 13) AND NORMALIZE OUR FEATURES \n",
    "- #### 0.50 WHEN WE USE A PRUNED TREE (of depth 9), NORMALIZE FEATURES AND ADD IN SUNSHINE HOURS AS ANOTHER FEATURE\n"
   ]
  },
  {
   "cell_type": "markdown",
   "id": "jewish-display",
   "metadata": {},
   "source": [
    "### Insights:\n",
    "\n",
    "- The accuracy achieved is higher than 0.3\n",
    "- Therefore, the accuracy achieved is not entirely due to chance\n",
    "\n",
    "### Possible reasons for inaccuracies:\n",
    "\n",
    "- Lack of enough data sets used in training model\n",
    "- Downsampling the monthly respiratory data sets to a weekly one to be used in tandem with the monthly weather information   dataset may have caused information to be lost.\n",
    "- The addition of monthly mean sunshine hours may have improved the accuracy of the data.\n",
    "- Weather data collected at the Changi weather station is no representative of the weather situation across Singapore.\n",
    "- Due to the insufficient data, humidity levels and the amount of sunlight may be better indicators to predict the number of   walkin cases related to Acute Upper Respiratory Tract infections as compared to the number of rainy days.\n",
    "\n",
    "### Conclusion:\n",
    "\n",
    "- We expected there to be a correlation between the number of walkin cases due to Acute Upper Respiratory Tract infections and the number of rainy days.  \n",
    "- There is a greater correlation between the number of walkin cases due to Acute Upper Respiratory Tract infections and humidity levels and the amount of sunlight as compared to the number of rainy days."
   ]
  }
 ],
 "metadata": {
  "kernelspec": {
   "display_name": "Python 3",
   "language": "python",
   "name": "python3"
  },
  "language_info": {
   "codemirror_mode": {
    "name": "ipython",
    "version": 3
   },
   "file_extension": ".py",
   "mimetype": "text/x-python",
   "name": "python",
   "nbconvert_exporter": "python",
   "pygments_lexer": "ipython3",
   "version": "3.7.3"
  }
 },
 "nbformat": 4,
 "nbformat_minor": 5
}
